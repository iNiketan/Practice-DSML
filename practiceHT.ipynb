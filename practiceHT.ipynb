{
 "cells": [
  {
   "attachments": {},
   "cell_type": "markdown",
   "id": "cdd231ee",
   "metadata": {},
   "source": [
    "# Hypothesis Testing Practice Assingment"
   ]
  },
  {
   "cell_type": "code",
   "execution_count": 1,
   "id": "1e23034c",
   "metadata": {},
   "outputs": [],
   "source": [
    "import numpy as np\n",
    "import pandas as pd\n",
    "import math\n",
    "from scipy.stats import norm"
   ]
  },
  {
   "attachments": {},
   "cell_type": "markdown",
   "id": "c91498e7",
   "metadata": {},
   "source": [
    "The Chai Point stall at Bengaluru airport estimates that each person visiting the store drinks an average of 1.7 small cups of tea.\n",
    "\n",
    "Assume a population standard deviation of 0.5 small cups. A sample of 30 customers collected over a few days averaged 1.85 small cups of tea per person."
   ]
  },
  {
   "cell_type": "code",
   "execution_count": 2,
   "id": "6fd2881b",
   "metadata": {},
   "outputs": [
    {
     "name": "stdout",
     "output_type": "stream",
     "text": [
      "accept the null hypothesis\n",
      "0.050502583474103746 1.64\n"
     ]
    }
   ],
   "source": [
    "# H0: mu = 1.7 cup\n",
    "# H1: mu > 1.7\n",
    "# sd = 0.5\n",
    "# n = 30\n",
    "\n",
    "z = round((1.85 - 1.7)/(.5/math.sqrt(30)), 2)\n",
    "p = 1 - norm.cdf(z)\n",
    "if p > 0.05:\n",
    "    print(\"accept the null hypothesis\")\n",
    "else:\n",
    "    print(\"reject H0\")\n",
    "print(p, z)\n",
    "\n",
    "# ans a\n",
    "\n"
   ]
  },
  {
   "attachments": {},
   "cell_type": "markdown",
   "id": "85ad9ee7",
   "metadata": {},
   "source": [
    "Que2 The student hostel office at IIT Madras estimates that each student uses more than 3.5 buckets of water per day. 45 students in a certain wing averaged 3.72 buckets of water per day.\n",
    "\n",
    "Assume that the population standard deviation is 0.7 buckets. What is the critical sample mean for this population, assuming a critical z- value of 1.28?"
   ]
  },
  {
   "cell_type": "code",
   "execution_count": 3,
   "id": "b1ccc123",
   "metadata": {},
   "outputs": [
    {
     "name": "stdout",
     "output_type": "stream",
     "text": [
      "2.1082926644998037\n",
      "0.01750284103854649\n"
     ]
    }
   ],
   "source": [
    "# H0: mu = 3.5\n",
    "# Ha mu > 3.72\n",
    "# sd = 0.7\n",
    "# n 45\n",
    "\n",
    "z = (3.72 - 3.5)/(0.7/math.sqrt(45))\n",
    "print(z)\n",
    "p = 1 - norm.cdf(z)\n",
    "print(p)"
   ]
  },
  {
   "attachments": {},
   "cell_type": "markdown",
   "id": "92cb27b4",
   "metadata": {},
   "source": [
    "Ques4....An accounting software company claims that they provide regular software updates with the time between updates being less than 6 months.\n",
    "\n",
    "A survey covering all 15 client firms showed that the actual average time between software updates is 5.4 months with a standard deviation of 1.1 months.\n",
    "\n",
    "Assume the population to be normally distributed. Test the claim made by the company using a t-test at an alpha = 0.05 significance level, for which the critical t-value is given as -1.761."
   ]
  },
  {
   "cell_type": "code",
   "execution_count": 4,
   "id": "2966daea",
   "metadata": {},
   "outputs": [
    {
     "name": "stdout",
     "output_type": "stream",
     "text": [
      "-2.1125363706585896\n",
      "0.017320234897094774\n",
      "reject H0\n"
     ]
    }
   ],
   "source": [
    "# H0 mu<6month wrong\n",
    "# H0 mu>6month   how do we get this null hypothesis\n",
    "# Ha mu=5.4\n",
    "sd = 1.1\n",
    "sample_mu = 5.4\n",
    "n = 15\n",
    "z = (sample_mu - 6)/(1.1/math.sqrt(15))\n",
    "print(z)\n",
    "p = norm.cdf(z)\n",
    "print(p)\n",
    "if p > 0.05:\n",
    "    print(\"accept the null hypothesis\")\n",
    "else:\n",
    "    print(\"reject H0\")\n",
    "\n"
   ]
  },
  {
   "attachments": {},
   "cell_type": "markdown",
   "id": "28db34ed",
   "metadata": {},
   "source": [
    "# HT 3"
   ]
  },
  {
   "attachments": {},
   "cell_type": "markdown",
   "id": "0152bd44",
   "metadata": {},
   "source": [
    "***\n",
    "Ques1. The average hourly wage of a sample of 150 workers in plant 'A' was Rs.2·87 with a standard deviation of Rs. 1·08.\n",
    "\n",
    "The average wage of a sample of 200 workers in plant 'B' was Rs. 2·56 with a standard deviation of Rs. 1·28.\n",
    "\n",
    "Can an applicant safely assume that the hourly wages paid by plant 'A' are higher than those paid by plant 'B' at a 1% significance level?\n"
   ]
  },
  {
   "cell_type": "code",
   "execution_count": 5,
   "id": "7adebc16",
   "metadata": {},
   "outputs": [],
   "source": [
    "from scipy.stats import ttest_1samp, ttest_ind, ttest_ind_from_stats"
   ]
  },
  {
   "cell_type": "code",
   "execution_count": 6,
   "id": "0f1ef9e1",
   "metadata": {},
   "outputs": [
    {
     "name": "stdout",
     "output_type": "stream",
     "text": [
      "p-value 0.008579470194694676\n",
      "t-stats 2.3947738234213953\n",
      "Reject H0\n"
     ]
    }
   ],
   "source": [
    "# when only parameters are given then we use ttest_ind_from_stats\n",
    "## scipy.stats.ttest_ind_from_stats(mean1, std1, nobs1, mean2, std2, nobs2, equal_var=True, alternative='two-sided')\n",
    "mu1 = 2.87\n",
    "sd1 = 1.08\n",
    "n1 = 150\n",
    "mu2 = 2.56\n",
    "sd2 = 1.28\n",
    "n2 = 200\n",
    "# H0 equal\n",
    "# Ha A>B\n",
    "t_stat, p_value = ttest_ind_from_stats(mu1, sd1, n1, mu2, sd2, n2, alternative='greater')\n",
    "print(\"p-value\", p_value)\n",
    "print(\"t-stats\", t_stat)\n",
    "if p_value < 0.01:\n",
    "    print(\"Reject H0\")\n",
    "else:\n",
    "    print(\"Fail to reject H0\")"
   ]
  },
  {
   "attachments": {},
   "cell_type": "markdown",
   "id": "cb551307",
   "metadata": {},
   "source": [
    "***\n",
    "**Que2**.. When smokers smoke, nicotine is transformed into cotinine, which can be tested.\n",
    "\n",
    "The average cotinine level in a group of 50 smokers was 243.5 ng ml.\n",
    "\n",
    "Assuming that the standard deviation is known to be 229.5 ng ml, at 95 % confidence, test the assertion that the mean cotinine level of all smokers is equal to 300.0 ng ml"
   ]
  },
  {
   "cell_type": "code",
   "execution_count": null,
   "id": "1ac072d4",
   "metadata": {},
   "outputs": [],
   "source": []
  },
  {
   "attachments": {},
   "cell_type": "markdown",
   "id": "eba2ddac",
   "metadata": {},
   "source": [
    "***\n",
    "**Que3** An institution claims that the candidates who study there have more IQ than the average institution. When the IQ of 50 students was calculated, the average turned out to be 110.\n",
    "\n",
    "The mean of the population IQ is 100 and the standard deviation is 15. Find the validity of the claim with a significance level of 5%"
   ]
  },
  {
   "cell_type": "code",
   "execution_count": 7,
   "id": "846e7f94",
   "metadata": {},
   "outputs": [
    {
     "name": "stdout",
     "output_type": "stream",
     "text": [
      "4.714045207910317\n",
      "1.2142337364462463e-06\n",
      "Reject H0\n"
     ]
    }
   ],
   "source": [
    "# H0 iq = 100\n",
    "# Ha iq > 100\n",
    "sample_mu = 110\n",
    "mu = 100\n",
    "sd = 15\n",
    "n = 50\n",
    "z = (sample_mu - mu)/(15/math.sqrt(50))\n",
    "print(z)\n",
    "# right tailed test \n",
    "p_value = 1 - norm.cdf(z)\n",
    "print(p_value)\n",
    "if p_value < 0.05:\n",
    "    print(\"Reject H0\")\n",
    "else:\n",
    "    print(\"Fail to reject H0\")"
   ]
  },
  {
   "attachments": {},
   "cell_type": "markdown",
   "id": "01565383",
   "metadata": {},
   "source": [
    "***\n",
    "**Que4** The quality assurance department claims that on average the non-fat milk contains more than 190 mg of Calcium per 500 ml packet.\n",
    "\n",
    "To check this claim 45 packets of milk are collected and the content of calcium is recorded. perform the appropriate test with 90% confidence."
   ]
  },
  {
   "cell_type": "code",
   "execution_count": 10,
   "id": "263b9063",
   "metadata": {},
   "outputs": [
    {
     "name": "stdout",
     "output_type": "stream",
     "text": [
      "199.48888888888888\n",
      "1.3689029903414232\n",
      "0.08898891556150607\n",
      "Reject H0\n"
     ]
    }
   ],
   "source": [
    "data = [193, 321, 222, 158, 176, 149, 154, 223, 233, 177, 280, 244, 138, 210, 167, 129, 254, 167, 194, 191, 128, 191, 144, 184, 330, 216, 212, 142, 216, 197, 231, 133, 205, 192, 195, 243, 224, 137, 234, 171, 176, 249, 222, 234, 191]\n",
    "#H0 <190\n",
    "#Ha > 190\n",
    "print(np.mean(data))\n",
    "t_stat, p_value = ttest_1samp(data, popmean=190, alternative=\"greater\")\n",
    "print(t_stat)\n",
    "print(p_value)\n",
    "if p_value < 0.10:\n",
    "    print(\"Reject H0\")\n",
    "else:\n",
    "    print(\"Fail to reject H0\")\n",
    "\n",
    "\n"
   ]
  },
  {
   "attachments": {},
   "cell_type": "markdown",
   "id": "be3044a7",
   "metadata": {},
   "source": [
    "***\n",
    "**Ques5** There are 8 females and 12 males in a coaching class. After a practice test, the coach wants to know whether the average score of females is greater than the average score of males.\n",
    "\n",
    "Given data describes the scores of females and males. Check whether the assumption of the coach is significant or not at a 5% of significance level?"
   ]
  },
  {
   "cell_type": "code",
   "execution_count": 11,
   "id": "544ce3b6",
   "metadata": {},
   "outputs": [
    {
     "name": "stdout",
     "output_type": "stream",
     "text": [
      "t_stat 0.5795450171026676\n",
      "p_value 0.2847023809445894\n",
      "Fail to reject H0\n"
     ]
    }
   ],
   "source": [
    "#h0 f = m \n",
    "#ha f> m\n",
    "female_scores=[25,30,45,49,47,35,32,42]\n",
    "\n",
    "male_scores=[45,47,25,22,29,32,27,28,40,49,50,33]\n",
    "\n",
    "t_stat, p_value = ttest_ind(female_scores, male_scores, alternative=\"greater\")\n",
    "print(\"t_stat\", t_stat)\n",
    "print(\"p_value\", p_value)\n",
    "\n",
    "if p_value < 0.05:\n",
    "    print(\"Reject H0\")\n",
    "else:\n",
    "    print(\"Fail to reject H0\")\n"
   ]
  },
  {
   "attachments": {},
   "cell_type": "markdown",
   "id": "04cb9884",
   "metadata": {},
   "source": [
    "# Anova"
   ]
  },
  {
   "attachments": {},
   "cell_type": "markdown",
   "id": "9a4ecd3e",
   "metadata": {},
   "source": [
    "***\n",
    "**Que5**Suppose there a four machines M1, M2, M3, and M4 in a factory that are used to produce a certain kind of cotton fabric\n",
    "\n",
    "Samples of size 4 with each unit having 100sq. meters are selected from the output of the machine randomly, and the number of flaws in every 100 sq. meters are counted and listed below.\n",
    "Do you think there is a significant difference in the performance of the four machines?"
   ]
  },
  {
   "cell_type": "code",
   "execution_count": 13,
   "id": "8d57ede9",
   "metadata": {},
   "outputs": [
    {
     "name": "stdout",
     "output_type": "stream",
     "text": [
      "25.22\n",
      "0.0\n",
      "Reject H0\n"
     ]
    }
   ],
   "source": [
    "from scipy.stats import f_oneway\n",
    "#Ho all machine have same flaw rate\n",
    "#Ha some machine do not have same flaws \n",
    "flaws = {'m1': [8, 9, 11, 12], 'm2':[6, 8,10,4], 'm3':[14, 12,18,9], 'm4':[20, 22, 25, 23]}\n",
    "machine_data = pd.DataFrame(flaws)\n",
    "f_stat, p_value = f_oneway(machine_data['m1'], machine_data['m2'], machine_data['m3'], machine_data['m4'])\n",
    "print(round(f_stat, 2))\n",
    "print(round(p_value, 2))\n",
    "if p_value < 0.05:\n",
    "    print(\"Reject H0\")\n",
    "else:\n",
    "    print(\"Fail to reject H0\")\n",
    "\n"
   ]
  },
  {
   "attachments": {},
   "cell_type": "markdown",
   "id": "4b7059dd",
   "metadata": {},
   "source": [
    "***\n",
    "**Que7** A Company wishes to test whether three sales persons Saurav, Naveen, and Radha make the same sales or they differ in their selling ability as measured by the average size of their sales during the last week.\n",
    "\n",
    "Out of 14 sales 'Saurav' made 5, 'Naveen' made 4 and 'Radha' made 5. The following table describes the records of the sales persons in rupees.\n"
   ]
  },
  {
   "cell_type": "code",
   "execution_count": 15,
   "id": "ffcc31c6",
   "metadata": {},
   "outputs": [
    {
     "name": "stdout",
     "output_type": "stream",
     "text": [
      "1.83\n",
      "0.21\n",
      "Fail to reject H0\n"
     ]
    }
   ],
   "source": [
    "# Ho same sales \n",
    "# Ha different sales\n",
    "Saurav = [300, 400, 300, 500, 0]\n",
    "Naveen = [600, 300, 300, 400]\n",
    "Radha = [700, 300, 400, 600, 500]\n",
    "f_stat, p_value = f_oneway(Saurav, Naveen, Radha)\n",
    "print(round(f_stat, 2))\n",
    "print(round(p_value, 2))\n",
    "if p_value < 0.05:\n",
    "    print(\"Reject H0\")\n",
    "else:\n",
    "    print(\"Fail to reject H0\")"
   ]
  },
  {
   "attachments": {},
   "cell_type": "markdown",
   "id": "86da3cd1",
   "metadata": {},
   "source": [
    "***\n",
    "**Que3** A random sample of 395 people was surveyed and each person was asked to report the highest education level they obtained.\n",
    "\n",
    "The data observed are summarized below:\n",
    "\n",
    "Female(60, 54, 46, 41, 201), Male(40, 44, 53, 57, 194) and Total(100, 98, 99, 98, 395),\n",
    "\n",
    "where variables in each class are (High school, Bachelors, Masters, Ph.d, Total).\n",
    "\n",
    "The expected values are: Female(50.866, 49.868, 50.377, 49.868, 201), Male(49.114, 48.132, 48.623, 48.132, 194) and Total(100, 98, 99, 98, 395).\n",
    "\n",
    "Are gender and education levels dependent at a 5% significance level?"
   ]
  },
  {
   "cell_type": "code",
   "execution_count": 17,
   "id": "f24fc9ff",
   "metadata": {},
   "outputs": [
    {
     "name": "stdout",
     "output_type": "stream",
     "text": [
      "Test statistic: 8.006066246262538\n",
      "p-value: 0.045886500891747214\n",
      "Degrees of freedom: 3\n",
      "expected value [[50.88607595 49.86835443 50.37721519 49.86835443]\n",
      " [49.11392405 48.13164557 48.62278481 48.13164557]]\n",
      "Critical value for chi-square test: 7.8147\n",
      "Chi statistic  > Chi critical. So, reject null hypothesis\n"
     ]
    }
   ],
   "source": [
    "from scipy.stats import chi2_contingency\n",
    "from scipy.stats import chi2\n",
    "from scipy.stats import chisquare\n",
    "\n",
    "Female = [60, 54, 46, 41]\n",
    "Male = [40, 44, 53, 57]\n",
    "array = np.array([Female,Male])\n",
    "\n",
    "#performing chi2 test\n",
    "chi_stat, p, dof, expected = chi2_contingency(observed = array, correction = False)\n",
    "\n",
    "print(\"Test statistic:\", chi_stat)\n",
    "print(\"p-value:\", p)\n",
    "print(\"Degrees of freedom:\", dof)\n",
    "print(\"expected value\", expected)\n",
    "\n",
    "chi2_val = np.abs(round(chi2.isf(q = 0.05, df = 3), 4))\n",
    "\n",
    "print('Critical value for chi-square test:', chi2_val)\n",
    "\n",
    "if chi_stat < chi2_val:\n",
    "    print(\"Chi statistic  < Chi critical. So, fail to reject null hypothesis\")\n",
    "else:\n",
    "    print(\"Chi statistic  > Chi critical. So, reject null hypothesis\")"
   ]
  },
  {
   "attachments": {},
   "cell_type": "markdown",
   "id": "d0f99184",
   "metadata": {},
   "source": [
    "***\n",
    "**Que4**According to a survey conducted on car owners, it was determined that 60% of owners have only one car, 28% have two cars, and 12% have three or more cars.\n",
    "\n",
    "Suppose you conducted your own survey and found that 73 owners have only one car, 38 owners have two cars, and 18 owners have three or more cars.\n",
    "\n",
    "Determine whether your survey supports the original one, with a significance level of 0.05."
   ]
  },
  {
   "attachments": {},
   "cell_type": "markdown",
   "id": "71877da7",
   "metadata": {},
   "source": [
    "H0: The observed proportion of car owners support the original survey.\n",
    "Ha: The observed proportions of car owners doesn’t support the original survey.\n",
    "Oi= Observed value\n",
    "Vi= Expected value\n",
    "\n",
    "χ2 = ∑ \n",
    "E \n",
    "i\n",
    "​\n",
    " \n",
    "(O \n",
    "i\n",
    "​\n",
    " −E \n",
    "i\n",
    "​\n",
    " ) \n",
    "2\n",
    " \n",
    "​\n",
    " \n",
    "\n",
    "E0 (number of one car’s owners) = 129 x 0.6 = 77.4\n",
    "E1 (number of two car’s owners) = 129 x 0.28 = 36.1\n",
    "E2 (number of three or more car’s owners) = 129 x 0.12 = 15.5\n",
    "\n",
    "(O0-E0)= -4.4, (O0-E0)2=19.36\n",
    "(O1-E1)= 1.9, (O1-E1)2=3.61\n",
    "(O2-E2)= 2.5, (O2-E2)2=6.25\n",
    "\n",
    "Chi square test statistic,χ2=∑ \n",
    "E \n",
    "i\n",
    "​\n",
    " \n",
    "(O \n",
    "i\n",
    "​\n",
    " −E \n",
    "i\n",
    "​\n",
    " ) \n",
    "2\n",
    " \n",
    "​\n",
    "  for i in range [0,2] = 0.7533\n",
    "\n",
    "Degree of freedom = 3-1=2\n",
    "The critical value with significance level 0.05 with degree of freedom = 2 is 5.99.\n",
    "A survey that agrees with the sample will have χ2 will have a value of 5.99 or less.\n",
    "\n",
    "∴ we fail to reject H0, i.e., the survey supports the observation."
   ]
  },
  {
   "cell_type": "code",
   "execution_count": 19,
   "id": "0de11f01",
   "metadata": {},
   "outputs": [
    {
     "data": {
      "text/plain": [
       "5.9915"
      ]
     },
     "execution_count": 19,
     "metadata": {},
     "output_type": "execute_result"
    }
   ],
   "source": [
    "np.abs(round(chi2.isf(q = 0.05, df = 2), 4))\n"
   ]
  },
  {
   "cell_type": "code",
   "execution_count": null,
   "id": "1d21e916",
   "metadata": {},
   "outputs": [],
   "source": []
  }
 ],
 "metadata": {
  "kernelspec": {
   "display_name": "Python 3 (ipykernel)",
   "language": "python",
   "name": "python3"
  },
  "language_info": {
   "codemirror_mode": {
    "name": "ipython",
    "version": 3
   },
   "file_extension": ".py",
   "mimetype": "text/x-python",
   "name": "python",
   "nbconvert_exporter": "python",
   "pygments_lexer": "ipython3",
   "version": "3.9.13"
  }
 },
 "nbformat": 4,
 "nbformat_minor": 5
}
